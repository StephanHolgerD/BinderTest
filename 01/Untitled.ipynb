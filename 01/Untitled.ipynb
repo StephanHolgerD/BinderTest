{
 "cells": [
  {
   "cell_type": "code",
   "execution_count": 38,
   "id": "cdaf0881",
   "metadata": {},
   "outputs": [],
   "source": [
    "import pandas as pd\n",
    "import matplotlib.ticker as mtick\n",
    "from matplotlib.lines import Line2D"
   ]
  },
  {
   "cell_type": "code",
   "execution_count": 39,
   "id": "794dbf75",
   "metadata": {},
   "outputs": [
    {
     "data": {
      "text/plain": [
       "{'.': 'point',\n",
       " ',': 'pixel',\n",
       " 'o': 'circle',\n",
       " 'v': 'triangle_down',\n",
       " '^': 'triangle_up',\n",
       " '<': 'triangle_left',\n",
       " '>': 'triangle_right',\n",
       " '1': 'tri_down',\n",
       " '2': 'tri_up',\n",
       " '3': 'tri_left',\n",
       " '4': 'tri_right',\n",
       " '8': 'octagon',\n",
       " 's': 'square',\n",
       " 'p': 'pentagon',\n",
       " '*': 'star',\n",
       " 'h': 'hexagon1',\n",
       " 'H': 'hexagon2',\n",
       " '+': 'plus',\n",
       " 'x': 'x',\n",
       " 'D': 'diamond',\n",
       " 'd': 'thin_diamond',\n",
       " '|': 'vline',\n",
       " '_': 'hline',\n",
       " 'P': 'plus_filled',\n",
       " 'X': 'x_filled',\n",
       " 0: 'tickleft',\n",
       " 1: 'tickright',\n",
       " 2: 'tickup',\n",
       " 3: 'tickdown',\n",
       " 4: 'caretleft',\n",
       " 5: 'caretright',\n",
       " 6: 'caretup',\n",
       " 7: 'caretdown',\n",
       " 8: 'caretleftbase',\n",
       " 9: 'caretrightbase',\n",
       " 10: 'caretupbase',\n",
       " 11: 'caretdownbase',\n",
       " 'None': 'nothing',\n",
       " None: 'nothing',\n",
       " ' ': 'nothing',\n",
       " '': 'nothing'}"
      ]
     },
     "execution_count": 39,
     "metadata": {},
     "output_type": "execute_result"
    }
   ],
   "source": [
    "Line2D.markers"
   ]
  },
  {
   "cell_type": "code",
   "execution_count": 2,
   "id": "e2b830fe",
   "metadata": {},
   "outputs": [],
   "source": [
    "import matplotlib.pyplot as plt"
   ]
  },
  {
   "cell_type": "code",
   "execution_count": 3,
   "id": "ec4b1d59",
   "metadata": {},
   "outputs": [],
   "source": [
    "df=pd.read_excel('../DEV/ClinVar_VEPanno_filterNonCoding_08_12_2021.xlsx')"
   ]
  },
  {
   "cell_type": "code",
   "execution_count": 4,
   "id": "712bea3d",
   "metadata": {},
   "outputs": [
    {
     "data": {
      "text/html": [
       "<div>\n",
       "<style scoped>\n",
       "    .dataframe tbody tr th:only-of-type {\n",
       "        vertical-align: middle;\n",
       "    }\n",
       "\n",
       "    .dataframe tbody tr th {\n",
       "        vertical-align: top;\n",
       "    }\n",
       "\n",
       "    .dataframe thead th {\n",
       "        text-align: right;\n",
       "    }\n",
       "</style>\n",
       "<table border=\"1\" class=\"dataframe\">\n",
       "  <thead>\n",
       "    <tr style=\"text-align: right;\">\n",
       "      <th></th>\n",
       "      <th>chr</th>\n",
       "      <th>pos</th>\n",
       "      <th>ref</th>\n",
       "      <th>alt</th>\n",
       "      <th>id</th>\n",
       "      <th>clinvar link</th>\n",
       "      <th>rev. status</th>\n",
       "      <th>clinical condition</th>\n",
       "      <th>Interpretation</th>\n",
       "      <th>gene</th>\n",
       "      <th>effect</th>\n",
       "      <th>hgvsp</th>\n",
       "      <th>hgvsc</th>\n",
       "      <th>AF exome</th>\n",
       "      <th>het. Individuals exome</th>\n",
       "      <th>hom. Individuals exome</th>\n",
       "      <th>AF genome</th>\n",
       "      <th>het. Individuals genome</th>\n",
       "      <th>hom. Individuals genome</th>\n",
       "    </tr>\n",
       "  </thead>\n",
       "  <tbody>\n",
       "    <tr>\n",
       "      <th>0</th>\n",
       "      <td>10</td>\n",
       "      <td>89712021</td>\n",
       "      <td>G</td>\n",
       "      <td>C</td>\n",
       "      <td>427623</td>\n",
       "      <td>NaN</td>\n",
       "      <td>reviewed_by_expert_panel</td>\n",
       "      <td>Cowden_syndrome_1|PTEN_hamartoma_tumor_syndrom...</td>\n",
       "      <td>Likely_pathogenic</td>\n",
       "      <td>PTEN</td>\n",
       "      <td>splice_region_variant&amp;intron_variant|splice_re...</td>\n",
       "      <td>NaN</td>\n",
       "      <td>ENST00000371953.3:c.634+5G&gt;C|ENST00000472832.1...</td>\n",
       "      <td>NaN</td>\n",
       "      <td>NaN</td>\n",
       "      <td>NaN</td>\n",
       "      <td>NaN</td>\n",
       "      <td>NaN</td>\n",
       "      <td>NaN</td>\n",
       "    </tr>\n",
       "    <tr>\n",
       "      <th>1</th>\n",
       "      <td>10</td>\n",
       "      <td>89717607</td>\n",
       "      <td>C</td>\n",
       "      <td>G</td>\n",
       "      <td>427599</td>\n",
       "      <td>NaN</td>\n",
       "      <td>reviewed_by_expert_panel</td>\n",
       "      <td>Hereditary_cancer-predisposing_syndrome|PTEN_h...</td>\n",
       "      <td>Likely_pathogenic</td>\n",
       "      <td>PTEN</td>\n",
       "      <td>splice_region_variant&amp;intron_variant|splice_re...</td>\n",
       "      <td>NaN</td>\n",
       "      <td>ENST00000472832.1:n.62-3C&gt;G|NM_001304717.5:c.1...</td>\n",
       "      <td>NaN</td>\n",
       "      <td>NaN</td>\n",
       "      <td>NaN</td>\n",
       "      <td>NaN</td>\n",
       "      <td>NaN</td>\n",
       "      <td>NaN</td>\n",
       "    </tr>\n",
       "    <tr>\n",
       "      <th>2</th>\n",
       "      <td>2</td>\n",
       "      <td>48033887</td>\n",
       "      <td>AAACTTTTTTTTTTTTTTTTTTAA</td>\n",
       "      <td>TTAAAAAAAAAAAAAAAAAAGTTT</td>\n",
       "      <td>89514</td>\n",
       "      <td>NaN</td>\n",
       "      <td>reviewed_by_expert_panel</td>\n",
       "      <td>Lynch_syndrome</td>\n",
       "      <td>Pathogenic</td>\n",
       "      <td>MSH6</td>\n",
       "      <td>intron_variant|splice_region_variant&amp;intron_va...</td>\n",
       "      <td>NaN</td>\n",
       "      <td>|ENST00000540021.1:c.3612-31_3612-8inv|NM_0001...</td>\n",
       "      <td>NaN</td>\n",
       "      <td>NaN</td>\n",
       "      <td>NaN</td>\n",
       "      <td>NaN</td>\n",
       "      <td>NaN</td>\n",
       "      <td>NaN</td>\n",
       "    </tr>\n",
       "    <tr>\n",
       "      <th>3</th>\n",
       "      <td>2</td>\n",
       "      <td>47708010</td>\n",
       "      <td>G</td>\n",
       "      <td>A</td>\n",
       "      <td>91021</td>\n",
       "      <td>NaN</td>\n",
       "      <td>reviewed_by_expert_panel</td>\n",
       "      <td>Lynch_syndrome|Hereditary_cancer-predisposing_...</td>\n",
       "      <td>Pathogenic</td>\n",
       "      <td>MSH2</td>\n",
       "      <td>splice_region_variant&amp;synonymous_variant|splic...</td>\n",
       "      <td>|ENSP00000442697.1:p.Glu812=|NP_000242.1:p.Glu...</td>\n",
       "      <td>ENST00000461394.1:n.75G&gt;A|NM_001258281.1:c.243...</td>\n",
       "      <td>NaN</td>\n",
       "      <td>NaN</td>\n",
       "      <td>NaN</td>\n",
       "      <td>NaN</td>\n",
       "      <td>NaN</td>\n",
       "      <td>NaN</td>\n",
       "    </tr>\n",
       "    <tr>\n",
       "      <th>4</th>\n",
       "      <td>2</td>\n",
       "      <td>47641557</td>\n",
       "      <td>G</td>\n",
       "      <td>A</td>\n",
       "      <td>91251</td>\n",
       "      <td>NaN</td>\n",
       "      <td>reviewed_by_expert_panel</td>\n",
       "      <td>Lynch_syndrome</td>\n",
       "      <td>Pathogenic</td>\n",
       "      <td>MSH2</td>\n",
       "      <td>splice_region_variant&amp;synonymous_variant</td>\n",
       "      <td>ENSP00000442697.1:p.Gln248=|NP_000242.1:p.Gln3...</td>\n",
       "      <td>NM_001258281.1:c.744G&gt;A|ENST00000543555.1:c.74...</td>\n",
       "      <td>NaN</td>\n",
       "      <td>NaN</td>\n",
       "      <td>NaN</td>\n",
       "      <td>NaN</td>\n",
       "      <td>NaN</td>\n",
       "      <td>NaN</td>\n",
       "    </tr>\n",
       "    <tr>\n",
       "      <th>...</th>\n",
       "      <td>...</td>\n",
       "      <td>...</td>\n",
       "      <td>...</td>\n",
       "      <td>...</td>\n",
       "      <td>...</td>\n",
       "      <td>...</td>\n",
       "      <td>...</td>\n",
       "      <td>...</td>\n",
       "      <td>...</td>\n",
       "      <td>...</td>\n",
       "      <td>...</td>\n",
       "      <td>...</td>\n",
       "      <td>...</td>\n",
       "      <td>...</td>\n",
       "      <td>...</td>\n",
       "      <td>...</td>\n",
       "      <td>...</td>\n",
       "      <td>...</td>\n",
       "      <td>...</td>\n",
       "    </tr>\n",
       "    <tr>\n",
       "      <th>440</th>\n",
       "      <td>5</td>\n",
       "      <td>112152119</td>\n",
       "      <td>A</td>\n",
       "      <td>G</td>\n",
       "      <td>823173</td>\n",
       "      <td>NaN</td>\n",
       "      <td>criteria_provided|_single_submitter</td>\n",
       "      <td>Hereditary_cancer-predisposing_syndrome</td>\n",
       "      <td>Likely_pathogenic</td>\n",
       "      <td>APC</td>\n",
       "      <td>intron_variant|intron_variant&amp;NMD_transcript_v...</td>\n",
       "      <td>NaN</td>\n",
       "      <td>NM_001354896.2:c.933+829A&gt;G|NM_001354906.2:c.8...</td>\n",
       "      <td>NaN</td>\n",
       "      <td>NaN</td>\n",
       "      <td>NaN</td>\n",
       "      <td>NaN</td>\n",
       "      <td>NaN</td>\n",
       "      <td>NaN</td>\n",
       "    </tr>\n",
       "    <tr>\n",
       "      <th>441</th>\n",
       "      <td>5</td>\n",
       "      <td>112162799</td>\n",
       "      <td>A</td>\n",
       "      <td>G</td>\n",
       "      <td>265373</td>\n",
       "      <td>NaN</td>\n",
       "      <td>criteria_provided|_single_submitter</td>\n",
       "      <td>not_provided</td>\n",
       "      <td>Likely_pathogenic</td>\n",
       "      <td>APC</td>\n",
       "      <td>intron_variant&amp;non_coding_transcript_variant|s...</td>\n",
       "      <td>NaN</td>\n",
       "      <td>ENST00000502371.1:n.96+5111A&gt;G|NM_001354904.2:...</td>\n",
       "      <td>NaN</td>\n",
       "      <td>NaN</td>\n",
       "      <td>NaN</td>\n",
       "      <td>NaN</td>\n",
       "      <td>NaN</td>\n",
       "      <td>NaN</td>\n",
       "    </tr>\n",
       "    <tr>\n",
       "      <th>442</th>\n",
       "      <td>5</td>\n",
       "      <td>112162800</td>\n",
       "      <td>A</td>\n",
       "      <td>G</td>\n",
       "      <td>411406</td>\n",
       "      <td>NaN</td>\n",
       "      <td>criteria_provided|_single_submitter</td>\n",
       "      <td>Familial_adenomatous_polyposis_1</td>\n",
       "      <td>Pathogenic</td>\n",
       "      <td>APC</td>\n",
       "      <td>intron_variant&amp;non_coding_transcript_variant|s...</td>\n",
       "      <td>NaN</td>\n",
       "      <td>NM_001127511.3:c.1355-5A&gt;G|ENST00000502371.1:n...</td>\n",
       "      <td>NaN</td>\n",
       "      <td>NaN</td>\n",
       "      <td>NaN</td>\n",
       "      <td>NaN</td>\n",
       "      <td>NaN</td>\n",
       "      <td>NaN</td>\n",
       "    </tr>\n",
       "    <tr>\n",
       "      <th>443</th>\n",
       "      <td>5</td>\n",
       "      <td>112162802</td>\n",
       "      <td>T</td>\n",
       "      <td>G</td>\n",
       "      <td>485146</td>\n",
       "      <td>NaN</td>\n",
       "      <td>criteria_provided|_single_submitter</td>\n",
       "      <td>Hereditary_cancer-predisposing_syndrome</td>\n",
       "      <td>Likely_pathogenic</td>\n",
       "      <td>APC</td>\n",
       "      <td>intron_variant&amp;non_coding_transcript_variant|s...</td>\n",
       "      <td>NaN</td>\n",
       "      <td>ENST00000257430.4:c.1409-3T&gt;G|ENST00000457016....</td>\n",
       "      <td>NaN</td>\n",
       "      <td>NaN</td>\n",
       "      <td>NaN</td>\n",
       "      <td>NaN</td>\n",
       "      <td>NaN</td>\n",
       "      <td>NaN</td>\n",
       "    </tr>\n",
       "    <tr>\n",
       "      <th>444</th>\n",
       "      <td>5</td>\n",
       "      <td>112174379</td>\n",
       "      <td>AAATA</td>\n",
       "      <td>TTTTTTTTTTTTTTTTTTTTTTTTTTTTTTTTTTTTTTTTTTTTTT...</td>\n",
       "      <td>1069494</td>\n",
       "      <td>NaN</td>\n",
       "      <td>criteria_provided|_single_submitter</td>\n",
       "      <td>Familial_adenomatous_polyposis_1</td>\n",
       "      <td>Pathogenic</td>\n",
       "      <td>APC</td>\n",
       "      <td>coding_sequence_variant|intron_variant&amp;NMD_tra...</td>\n",
       "      <td>NaN</td>\n",
       "      <td>NaN</td>\n",
       "      <td>NaN</td>\n",
       "      <td>NaN</td>\n",
       "      <td>NaN</td>\n",
       "      <td>NaN</td>\n",
       "      <td>NaN</td>\n",
       "      <td>NaN</td>\n",
       "    </tr>\n",
       "  </tbody>\n",
       "</table>\n",
       "<p>445 rows × 19 columns</p>\n",
       "</div>"
      ],
      "text/plain": [
       "     chr        pos                       ref  \\\n",
       "0     10   89712021                         G   \n",
       "1     10   89717607                         C   \n",
       "2      2   48033887  AAACTTTTTTTTTTTTTTTTTTAA   \n",
       "3      2   47708010                         G   \n",
       "4      2   47641557                         G   \n",
       "..   ...        ...                       ...   \n",
       "440    5  112152119                         A   \n",
       "441    5  112162799                         A   \n",
       "442    5  112162800                         A   \n",
       "443    5  112162802                         T   \n",
       "444    5  112174379                     AAATA   \n",
       "\n",
       "                                                   alt       id  clinvar link  \\\n",
       "0                                                    C   427623           NaN   \n",
       "1                                                    G   427599           NaN   \n",
       "2                             TTAAAAAAAAAAAAAAAAAAGTTT    89514           NaN   \n",
       "3                                                    A    91021           NaN   \n",
       "4                                                    A    91251           NaN   \n",
       "..                                                 ...      ...           ...   \n",
       "440                                                  G   823173           NaN   \n",
       "441                                                  G   265373           NaN   \n",
       "442                                                  G   411406           NaN   \n",
       "443                                                  G   485146           NaN   \n",
       "444  TTTTTTTTTTTTTTTTTTTTTTTTTTTTTTTTTTTTTTTTTTTTTT...  1069494           NaN   \n",
       "\n",
       "                             rev. status  \\\n",
       "0               reviewed_by_expert_panel   \n",
       "1               reviewed_by_expert_panel   \n",
       "2               reviewed_by_expert_panel   \n",
       "3               reviewed_by_expert_panel   \n",
       "4               reviewed_by_expert_panel   \n",
       "..                                   ...   \n",
       "440  criteria_provided|_single_submitter   \n",
       "441  criteria_provided|_single_submitter   \n",
       "442  criteria_provided|_single_submitter   \n",
       "443  criteria_provided|_single_submitter   \n",
       "444  criteria_provided|_single_submitter   \n",
       "\n",
       "                                    clinical condition     Interpretation  \\\n",
       "0    Cowden_syndrome_1|PTEN_hamartoma_tumor_syndrom...  Likely_pathogenic   \n",
       "1    Hereditary_cancer-predisposing_syndrome|PTEN_h...  Likely_pathogenic   \n",
       "2                                       Lynch_syndrome         Pathogenic   \n",
       "3    Lynch_syndrome|Hereditary_cancer-predisposing_...         Pathogenic   \n",
       "4                                       Lynch_syndrome         Pathogenic   \n",
       "..                                                 ...                ...   \n",
       "440            Hereditary_cancer-predisposing_syndrome  Likely_pathogenic   \n",
       "441                                       not_provided  Likely_pathogenic   \n",
       "442                   Familial_adenomatous_polyposis_1         Pathogenic   \n",
       "443            Hereditary_cancer-predisposing_syndrome  Likely_pathogenic   \n",
       "444                   Familial_adenomatous_polyposis_1         Pathogenic   \n",
       "\n",
       "     gene                                             effect  \\\n",
       "0    PTEN  splice_region_variant&intron_variant|splice_re...   \n",
       "1    PTEN  splice_region_variant&intron_variant|splice_re...   \n",
       "2    MSH6  intron_variant|splice_region_variant&intron_va...   \n",
       "3    MSH2  splice_region_variant&synonymous_variant|splic...   \n",
       "4    MSH2           splice_region_variant&synonymous_variant   \n",
       "..    ...                                                ...   \n",
       "440   APC  intron_variant|intron_variant&NMD_transcript_v...   \n",
       "441   APC  intron_variant&non_coding_transcript_variant|s...   \n",
       "442   APC  intron_variant&non_coding_transcript_variant|s...   \n",
       "443   APC  intron_variant&non_coding_transcript_variant|s...   \n",
       "444   APC  coding_sequence_variant|intron_variant&NMD_tra...   \n",
       "\n",
       "                                                 hgvsp  \\\n",
       "0                                                  NaN   \n",
       "1                                                  NaN   \n",
       "2                                                  NaN   \n",
       "3    |ENSP00000442697.1:p.Glu812=|NP_000242.1:p.Glu...   \n",
       "4    ENSP00000442697.1:p.Gln248=|NP_000242.1:p.Gln3...   \n",
       "..                                                 ...   \n",
       "440                                                NaN   \n",
       "441                                                NaN   \n",
       "442                                                NaN   \n",
       "443                                                NaN   \n",
       "444                                                NaN   \n",
       "\n",
       "                                                 hgvsc  AF exome  \\\n",
       "0    ENST00000371953.3:c.634+5G>C|ENST00000472832.1...       NaN   \n",
       "1    ENST00000472832.1:n.62-3C>G|NM_001304717.5:c.1...       NaN   \n",
       "2    |ENST00000540021.1:c.3612-31_3612-8inv|NM_0001...       NaN   \n",
       "3    ENST00000461394.1:n.75G>A|NM_001258281.1:c.243...       NaN   \n",
       "4    NM_001258281.1:c.744G>A|ENST00000543555.1:c.74...       NaN   \n",
       "..                                                 ...       ...   \n",
       "440  NM_001354896.2:c.933+829A>G|NM_001354906.2:c.8...       NaN   \n",
       "441  ENST00000502371.1:n.96+5111A>G|NM_001354904.2:...       NaN   \n",
       "442  NM_001127511.3:c.1355-5A>G|ENST00000502371.1:n...       NaN   \n",
       "443  ENST00000257430.4:c.1409-3T>G|ENST00000457016....       NaN   \n",
       "444                                                NaN       NaN   \n",
       "\n",
       "     het. Individuals exome  hom. Individuals exome  AF genome  \\\n",
       "0                       NaN                     NaN        NaN   \n",
       "1                       NaN                     NaN        NaN   \n",
       "2                       NaN                     NaN        NaN   \n",
       "3                       NaN                     NaN        NaN   \n",
       "4                       NaN                     NaN        NaN   \n",
       "..                      ...                     ...        ...   \n",
       "440                     NaN                     NaN        NaN   \n",
       "441                     NaN                     NaN        NaN   \n",
       "442                     NaN                     NaN        NaN   \n",
       "443                     NaN                     NaN        NaN   \n",
       "444                     NaN                     NaN        NaN   \n",
       "\n",
       "     het. Individuals genome  hom. Individuals genome  \n",
       "0                        NaN                      NaN  \n",
       "1                        NaN                      NaN  \n",
       "2                        NaN                      NaN  \n",
       "3                        NaN                      NaN  \n",
       "4                        NaN                      NaN  \n",
       "..                       ...                      ...  \n",
       "440                      NaN                      NaN  \n",
       "441                      NaN                      NaN  \n",
       "442                      NaN                      NaN  \n",
       "443                      NaN                      NaN  \n",
       "444                      NaN                      NaN  \n",
       "\n",
       "[445 rows x 19 columns]"
      ]
     },
     "execution_count": 4,
     "metadata": {},
     "output_type": "execute_result"
    }
   ],
   "source": [
    "df\n"
   ]
  },
  {
   "cell_type": "code",
   "execution_count": 6,
   "id": "029c251c",
   "metadata": {},
   "outputs": [],
   "source": [
    "df_filter=df[~df['AF exome'].isna()]"
   ]
  },
  {
   "cell_type": "code",
   "execution_count": 13,
   "id": "474990a2",
   "metadata": {},
   "outputs": [
    {
     "name": "stderr",
     "output_type": "stream",
     "text": [
      "/tmp/ipykernel_4768/511334092.py:1: SettingWithCopyWarning: \n",
      "A value is trying to be set on a copy of a slice from a DataFrame.\n",
      "Try using .loc[row_indexer,col_indexer] = value instead\n",
      "\n",
      "See the caveats in the documentation: https://pandas.pydata.org/pandas-docs/stable/user_guide/indexing.html#returning-a-view-versus-a-copy\n",
      "  df_filter['effect']=df_filter['effect'].str.split('|',expand=True)[0]\n"
     ]
    }
   ],
   "source": [
    "df_filter['effect']=df_filter['effect'].str.split('|',expand=True)[0]"
   ]
  },
  {
   "cell_type": "code",
   "execution_count": 15,
   "id": "4d1c2a57",
   "metadata": {},
   "outputs": [
    {
     "data": {
      "text/plain": [
       "{'inframe_insertion',\n",
       " 'intron_variant',\n",
       " 'intron_variant&non_coding_transcript_variant',\n",
       " 'regulatory_region_variant',\n",
       " 'splice_region_variant&intron_variant',\n",
       " 'splice_region_variant&intron_variant&non_coding_transcript_variant',\n",
       " 'splice_region_variant&synonymous_variant',\n",
       " 'synonymous_variant',\n",
       " 'synonymous_variant&NMD_transcript_variant'}"
      ]
     },
     "execution_count": 15,
     "metadata": {},
     "output_type": "execute_result"
    }
   ],
   "source": [
    "set(df_filter['effect'])"
   ]
  },
  {
   "cell_type": "code",
   "execution_count": 16,
   "id": "67f91275",
   "metadata": {},
   "outputs": [],
   "source": [
    "import numpy as np"
   ]
  },
  {
   "cell_type": "code",
   "execution_count": 35,
   "id": "0fa05de6",
   "metadata": {},
   "outputs": [
    {
     "data": {
      "text/plain": [
       "0.35436452798806206"
      ]
     },
     "execution_count": 35,
     "metadata": {},
     "output_type": "execute_result"
    }
   ],
   "source": [
    "np.random.random(1)[0]"
   ]
  },
  {
   "cell_type": "code",
   "execution_count": 36,
   "id": "6984a96a",
   "metadata": {},
   "outputs": [],
   "source": [
    "def randCol():\n",
    "    return (np.random.random(1)[0],np.random.random(1)[0],np.random.random(1)[0])"
   ]
  },
  {
   "cell_type": "code",
   "execution_count": 19,
   "id": "69fc47e7",
   "metadata": {},
   "outputs": [
    {
     "data": {
      "text/plain": [
       "[178, 76, 254]"
      ]
     },
     "execution_count": 19,
     "metadata": {},
     "output_type": "execute_result"
    }
   ],
   "source": [
    "randCol()"
   ]
  },
  {
   "cell_type": "code",
   "execution_count": 46,
   "id": "f2c11946",
   "metadata": {},
   "outputs": [
    {
     "ename": "ModuleNotFoundError",
     "evalue": "No module named 'seaborn'",
     "output_type": "error",
     "traceback": [
      "\u001b[0;31m---------------------------------------------------------------------------\u001b[0m",
      "\u001b[0;31mModuleNotFoundError\u001b[0m                       Traceback (most recent call last)",
      "\u001b[0;32m/tmp/ipykernel_4768/2351219987.py\u001b[0m in \u001b[0;36m<module>\u001b[0;34m\u001b[0m\n\u001b[0;32m----> 1\u001b[0;31m \u001b[0;32mimport\u001b[0m \u001b[0mseaborn\u001b[0m \u001b[0;32mas\u001b[0m \u001b[0msns\u001b[0m\u001b[0;34m\u001b[0m\u001b[0;34m\u001b[0m\u001b[0m\n\u001b[0m",
      "\u001b[0;31mModuleNotFoundError\u001b[0m: No module named 'seaborn'"
     ]
    }
   ],
   "source": [
    "import seaborn as sns"
   ]
  },
  {
   "cell_type": "code",
   "execution_count": 49,
   "id": "912d0fc7",
   "metadata": {},
   "outputs": [],
   "source": [
    "\n",
    "\n",
    "def mscatter(x,y,ax=None, m=None, **kw):\n",
    "    import matplotlib.markers as mmarkers\n",
    "    if not ax: ax=plt.gca()\n",
    "    sc = ax.scatter(x,y,**kw)\n",
    "    if (m is not None) and (len(m)==len(x)):\n",
    "        paths = []\n",
    "        for marker in m:\n",
    "            if isinstance(marker, mmarkers.MarkerStyle):\n",
    "                marker_obj = marker\n",
    "            else:\n",
    "                marker_obj = mmarkers.MarkerStyle(marker)\n",
    "            path = marker_obj.get_path().transformed(\n",
    "                        marker_obj.get_transform())\n",
    "            paths.append(path)\n",
    "        sc.set_paths(paths)\n",
    "    return sc"
   ]
  },
  {
   "cell_type": "code",
   "execution_count": 53,
   "id": "3791c950",
   "metadata": {},
   "outputs": [
    {
     "data": {
      "image/png": "[encoded data removed]",
      "text/plain": [
       "<Figure size 432x288 with 1 Axes>"
      ]
     },
     "metadata": {
      "needs_background": "light"
     },
     "output_type": "display_data"
    }
   ],
   "source": [
    "fig,ax=plt.subplots()\n",
    "\n",
    "m={}\n",
    "c=0\n",
    "for t,d in df_filter.groupby('gene'):\n",
    "    mm=[]\n",
    "    for _ in d['effect']:\n",
    "        if _ in m:\n",
    "            mm.append(m[_])\n",
    "        else:\n",
    "            m[_]=list(Line2D.markers)[c]\n",
    "            c=c+1    \n",
    "                \n",
    "    mscatter(d['AF exome'],d['gene'],color=randCol(),m=mm,ax=ax)\n",
    "ax.xaxis.get_major_formatter().set_scientific(False)"
   ]
  },
  {
   "cell_type": "code",
   "execution_count": 71,
   "id": "c56b0ada",
   "metadata": {},
   "outputs": [
    {
     "name": "stderr",
     "output_type": "stream",
     "text": [
      "/tmp/ipykernel_4768/2464634141.py:6: UserWarning: You passed a edgecolor/edgecolors ('white') for an unfilled marker ('1').  Matplotlib is ignoring the edgecolor in favor of the facecolor.  This behavior may change in the future.\n",
      "  ax.scatter(d['AF exome'],d['gene'],color='black'\n",
      "/tmp/ipykernel_4768/2464634141.py:6: UserWarning: You passed a edgecolor/edgecolors ('white') for an unfilled marker ('2').  Matplotlib is ignoring the edgecolor in favor of the facecolor.  This behavior may change in the future.\n",
      "  ax.scatter(d['AF exome'],d['gene'],color='black'\n"
     ]
    },
    {
     "data": {
      "text/plain": [
       "<matplotlib.legend.Legend at 0x7fa78113ea30>"
      ]
     },
     "execution_count": 71,
     "metadata": {},
     "output_type": "execute_result"
    },
    {
     "data": {
      "image/png": "[encoded data removed]",
      "text/plain": [
       "<Figure size 576x576 with 1 Axes>"
      ]
     },
     "metadata": {
      "needs_background": "light"
     },
     "output_type": "display_data"
    }
   ],
   "source": [
    "fig,ax=plt.subplots(figsize=(8,8))\n",
    "\n",
    "m={}\n",
    "c=0\n",
    "for t,d in df_filter.groupby('effect'):\n",
    "    ax.scatter(d['AF exome'],d['gene'],color='black'\n",
    "               ,marker=list(Line2D.markers)[c],label=t,edgecolor='white',s=80)\n",
    "    c=c+1\n",
    "ax.xaxis.get_major_formatter().set_scientific(False)\n",
    "ax.set_ylabel('gene')\n",
    "ax.set_xlabel('exome af')\n",
    "plt.legend(loc='upper left',bbox_to_anchor=(1,1))"
   ]
  },
  {
   "cell_type": "code",
   "execution_count": 33,
   "id": "79e5f2e1",
   "metadata": {},
   "outputs": [
    {
     "data": {
      "image/png": "[encoded data removed]",
      "text/plain": [
       "<Figure size 432x288 with 1 Axes>"
      ]
     },
     "metadata": {
      "needs_background": "light"
     },
     "output_type": "display_data"
    }
   ],
   "source": [
    "fig,ax=plt.subplots()\n",
    "\n",
    "\n",
    "ax.scatter(df_filter['AF exome'],df_filter['gene'])\n",
    "ax.xaxis.get_major_formatter().set_scientific(False)"
   ]
  },
  {
   "cell_type": "code",
   "execution_count": 23,
   "id": "b3ced4c9",
   "metadata": {},
   "outputs": [
    {
     "data": {
      "image/png": "[encoded data removed]",
      "text/plain": [
       "<Figure size 432x288 with 1 Axes>"
      ]
     },
     "metadata": {
      "needs_background": "light"
     },
     "output_type": "display_data"
    }
   ],
   "source": [
    "fig,ax =plt.subplots()\n",
    "ax.scatter(df['AF genome'],df['AF exome'])\n",
    "ax.set(ylabel='genome',xlabel='exome')\n",
    "\n",
    "#ax.yaxis.set_major_formatter(mtick.FormatStrFormatter('%.1'))\n",
    "ax.yaxis.set_major_formatter(mtick.ScalarFormatter())\n",
    "\n",
    "ax.yaxis.get_major_formatter().set_scientific(False)\n",
    "ax.yaxis.get_major_formatter().set_useOffset(False)"
   ]
  },
  {
   "cell_type": "code",
   "execution_count": 22,
   "id": "81609a66",
   "metadata": {},
   "outputs": [
    {
     "data": {
      "image/png": "[encoded data removed]",
      "text/plain": [
       "<Figure size 432x288 with 1 Axes>"
      ]
     },
     "metadata": {
      "needs_background": "light"
     },
     "output_type": "display_data"
    }
   ],
   "source": [
    "fig,ax =plt.subplots()\n",
    "ax.scatter(df['AF genome'],df['AF exome'])\n",
    "ax.set(ylabel='genome',xlabel='exome')\n",
    "\n",
    "#ax.yaxis.set_major_formatter(mtick.FormatStrFormatter('%.1'))\n",
    "ax.yaxis.set_major_formatter(mtick.ScalarFormatter())\n",
    "\n",
    "ax.yaxis.get_major_formatter().set_scientific(False)\n",
    "ax.yaxis.get_major_formatter().set_useOffset(True)"
   ]
  },
  {
   "cell_type": "code",
   "execution_count": null,
   "id": "7f41ac43",
   "metadata": {},
   "outputs": [],
   "source": [
    "ax.yaxis.set_major_formatter(mticker.ScalarFormatter())\n",
    "ax.yaxis.get_major_formatter().set_scientific(False)\n",
    "ax.yaxis.get_major_formatter().set_useOffset(False)"
   ]
  },
  {
   "cell_type": "code",
   "execution_count": null,
   "id": "015cbc61",
   "metadata": {},
   "outputs": [],
   "source": [
    "'../DEV/ClinVar_VEPanno_filterNonCoding_08_12_2021.xlsx'"
   ]
  }
 ],
 "metadata": {
  "kernelspec": {
   "display_name": "Python 3 (ipykernel)",
   "language": "python",
   "name": "python3"
  },
  "language_info": {
   "codemirror_mode": {
    "name": "ipython",
    "version": 3
   },
   "file_extension": ".py",
   "mimetype": "text/x-python",
   "name": "python",
   "nbconvert_exporter": "python",
   "pygments_lexer": "ipython3",
   "version": "3.9.7"
  }
 },
 "nbformat": 4,
 "nbformat_minor": 5
}
